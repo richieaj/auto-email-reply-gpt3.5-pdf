{
 "cells": [
  {
   "cell_type": "markdown",
   "id": "5f973ae3",
   "metadata": {},
   "source": [
    "# Automated Email Reply System with PDF Integration"
   ]
  },
  {
   "cell_type": "markdown",
   "id": "d54ae1b7",
   "metadata": {},
   "source": [
    "# Introduction:\n",
    "\n",
    "- This project presents an automated email reply system that incorporates \n",
    "- PDF integration to provide intelligent and personalized responses to customer inquiries. \n",
    "- Leveraging the power of GPT 3.5, the system extracts relevant information from PDF files, such as product details or pricing, and utilizes it to generate accurate and context-aware replies. \n",
    "- By automating the email response process, this project aims to streamline customer support and enhance customer satisfaction. \n",
    "- With its ability to handle PDF extraction and email generation seamlessly, this system offers an efficient and effective solution for managing customer inquiries in a timely manner."
   ]
  },
  {
   "cell_type": "code",
   "execution_count": 7,
   "id": "8638967c",
   "metadata": {},
   "outputs": [],
   "source": [
    "import pprint\n",
    "import json\n",
    "import PyPDF2\n",
    "import imapclient\n",
    "import email\n",
    "from email.utils import parseaddr\n",
    "from email.parser import Parser\n",
    "import requests"
   ]
  },
  {
   "cell_type": "markdown",
   "id": "411ca79c",
   "metadata": {},
   "source": [
    "## The PDF extraction\n",
    "\n",
    "- This code defines a function extract_text_from_pdf that takes a PDF file path as input and returns the extracted text content from the PDF. It uses the PyPDF2 library to read the PDF file and extract text from each page. The extracted text is accumulated in the text variable and returned at the end.\n",
    "\n",
    "- In the main section, the code specifies the path to the PDF file and calls the extract_text_from_pdf function to extract the text content. Finally, it prints the extracted text.\n",
    "\n",
    "- By executing this code, you can extract the text content from a PDF file and display it in the output."
   ]
  },
  {
   "cell_type": "code",
   "execution_count": 8,
   "id": "201aa0e5",
   "metadata": {},
   "outputs": [
    {
     "name": "stdout",
     "output_type": "stream",
     "text": [
      "Sure, here are the soap prices in Indian rupees, along with some discount options, bulk order prices, \n",
      "and monthly subscription details: \n",
      " Single bar: ₹25 \n",
      " 3-bar pack: ₹75 (20% off) \n",
      " 6-bar pack: ₹150 (30% off) \n",
      " 12-bar pack: ₹250 (40% off) \n",
      " Monthly subscription: ₹200/month (get 1 free bar per month) \n",
      "For bulk orders of 50 or more bars, please contact us for a custom quote. \n",
      "We also offer a 10% discount on all orders over ₹500. \n",
      "To subscribe to our monthly soap delivery, simply visit our website and select the \"Subscribe\" \n",
      "option. You will then be able to choose the number of bars you want to receive each month and the \n",
      "frequency of your deliveries. \n",
      "We hope you enjoy our natural soap! \n",
      "Ingredients: \n",
      " Plant-based oils: Olive oil, coconut oil, palm oil \n",
      " Essential oils: Lavender oil, peppermint oil \n",
      " Natural clays: Bentonite clay, kaolin clay \n",
      "Health benefits: \n",
      " Moisturizes and protects the skin \n",
      " Antibacterial and antifungal properties \n",
      " Calming and relaxing \n",
      " Invigorating and refreshing \n",
      "Results: \n",
      " Soft, smooth, and hydrated skin \n",
      " Clear, healthy-looking skin \n",
      " Calm, relaxed skin \n",
      " Invigorated, refreshed skin \n",
      "How to use: \n",
      " Lather up the soap in your hands and apply it to your wet skin. \n",
      " Rinse the soap off with warm water and pat your skin dry. \n",
      "Is natural soap safe for my skin? Yes, natural soap is safe for most people's skin. However, it is always a good idea to patch test a new \n",
      "soap on a small area of your skin before using it all over your body. If you have any concerns about \n",
      "using natural soap, please consult with a dermatologist. \n",
      "How long does natural soap last? \n",
      "Natural soap can last for several months, depending on how often you use it. To help your soap last \n",
      "longer, store it in a dry, cool place. \n",
      "Is natural soap better than commercial soap? \n",
      "There is no definitive answer to this question, as both natural and commercial soap have their own \n",
      "benefits and drawbacks. Natural soap is generally gentler on the skin and may be a better choice for \n",
      "people with sensitive skin. However, commercial soap may be more effective at cleansing the skin. \n",
      "Ultimately, the best type of soap for you will depend on your individual needs and preferences. \n",
      " \n"
     ]
    }
   ],
   "source": [
    "def extract_text_from_pdf(pdf_path):\n",
    "    text = \"\"\n",
    "    with open(pdf_path, \"rb\") as file:\n",
    "        reader = PyPDF2.PdfReader(file)\n",
    "        num_pages = len(reader.pages)\n",
    "        for page_num in range(num_pages):\n",
    "            page = reader.pages[page_num]\n",
    "            text += page.extract_text()\n",
    "    return text\n",
    "pdf_path = \"filelocation\"\n",
    "extracted_text = extract_text_from_pdf(pdf_path)\n",
    "print(extracted_text)"
   ]
  },
  {
   "cell_type": "markdown",
   "id": "c0fd1257",
   "metadata": {},
   "source": [
    "## Fetching the Latest Email Body from Gmail\n",
    "\n",
    "This code fetches the content (body) of the latest email from the Gmail inbox using the IMAP protocol and then prints the extracted email body. However, it's important to note that the code uses fixed credentials, which is not a secure practice for real-world applications. In production scenarios, it's better to use more secure and flexible methods for handling credentials, such as using environment variables or external configuration files. Additionally, the code assumes that the latest email is in plain text format and may not handle all possible email structures. In real-world applications, you may need to consider different email formats and content types."
   ]
  },
  {
   "cell_type": "code",
   "execution_count": 12,
   "id": "a0a16961",
   "metadata": {},
   "outputs": [
    {
     "name": "stdout",
     "output_type": "stream",
     "text": [
      "The content of the email is: Hey rose soaps,\r\n",
      "\r\n",
      "What are the ingredients you are using in your soap will they harm soft\r\n",
      "skin?\r\n",
      "\n"
     ]
    }
   ],
   "source": [
    "def get_latest_email_body():\n",
    "    imap_server = \"imap.gmail.com\"\n",
    "    username = \"youremail@gmail.com\"\n",
    "    password = \"yourpassword\"\n",
    "    client = imapclient.IMAPClient(imap_server)\n",
    "    client.login(username, password)\n",
    "    client.select_folder(\"INBOX\")\n",
    "    messages = client.search(\"ALL\")\n",
    "    latest_email_id = messages[-1]\n",
    "    response = client.fetch(latest_email_id, [\"BODY[]\"])\n",
    "    email_data = response[latest_email_id][b\"BODY[]\"].decode(\"utf-8\").strip()\n",
    "    client.logout()\n",
    "    email_parser = Parser()\n",
    "    email_message = email_parser.parsestr(email_data)\n",
    "    email_body = \"\"\n",
    "    if email_message.is_multipart():\n",
    "        for part in email_message.walk():\n",
    "            content_type = part.get_content_type()\n",
    "            if content_type == \"text/plain\":\n",
    "                email_body = part.get_payload(decode=True).decode(\"utf-8\")\n",
    "                break\n",
    "    else:\n",
    "        email_body = email_message.get_payload(decode=True).decode(\"utf-8\")\n",
    "    return email_body\n",
    "if __name__ == \"__main__\":\n",
    "    email_body = get_latest_email_body()\n",
    "    print(\"The content of the email is:\", email_body)"
   ]
  },
  {
   "cell_type": "markdown",
   "id": "f0fccaee",
   "metadata": {},
   "source": [
    "## Automatic Email Reply Generation\n",
    "\n",
    "This code revolves around the Python code provided, which demonstrates how to generate automatic email replies using the GPT-3.5 Turbo language model from OpenAI. The code defines a function called generate_reply that leverages the model to generate a response based on customer email content and extracted text from a PDF file. The email conversation is created as a list of messages with different roles (user and assistant), and the conversation prompt, along with the extracted PDF text, is passed to the GPT-3.5 Turbo model using the OpenAI API."
   ]
  },
  {
   "cell_type": "code",
   "execution_count": 17,
   "id": "135d9a15",
   "metadata": {},
   "outputs": [
    {
     "name": "stdout",
     "output_type": "stream",
     "text": [
      "Dear customer,\n",
      "\n",
      "Thank you for your inquiry about the ingredients in our soaps and their effects on soft skin. Our soap is made using a blend of plant-based oils, essential oils, and natural clays. Here are the details of the ingredients we use:\n",
      "\n",
      "1. Plant-based oils: We use olive oil, coconut oil, and palm oil as the base oils for our soap. These oils are known for their moisturizing properties and are gentle on the skin.\n",
      "\n",
      "2. Essential oils: We add lavender oil and peppermint oil to our soaps for their aromatic and therapeutic benefits. Lavender oil has calming and relaxing properties, while peppermint oil is invigorating and refreshing.\n",
      "\n",
      "3. Natural clays: Bentonite clay and kaolin clay\n",
      "\n",
      "Best regards,\n",
      "Rose Soaps\n"
     ]
    }
   ],
   "source": [
    "def generate_reply(email, pdf_text):\n",
    "    conversation = [{'role': 'user', 'content': email},\n",
    "                    {'role': 'assistant', 'content': f'You received an email with the following content:\\n{email}\\n\\nReply:'},\n",
    "                    {'role': 'user', 'content': pdf_text}]   \n",
    "    api_key = 'Your-api-key'\n",
    "    endpoint = 'https://api.openai.com/v1/chat/completions'\n",
    "    headers = {\n",
    "        'Authorization': f'Bearer {api_key}',\n",
    "        'Content-Type': 'application/json'\n",
    "    }\n",
    "    data = {\n",
    "        'model': 'gpt-3.5-turbo', \n",
    "        'messages': conversation,\n",
    "        'temperature': 0.7,\n",
    "        'max_tokens': 150\n",
    "    }\n",
    "    response = requests.post(endpoint, headers=headers, json=data)\n",
    "    response_data = response.json()\n",
    "    reply_text = response_data['choices'][0]['message']['content']\n",
    "    reply_text += \"\\n\\nBest regards,\\nRose Soaps\"\n",
    "    return reply_text\n",
    "if __name__ == \"__main__\":\n",
    "    email = email_body\n",
    "    reply = generate_reply(email, extracted_text)\n",
    "    print(reply)"
   ]
  },
  {
   "cell_type": "markdown",
   "id": "1c8bca83",
   "metadata": {},
   "source": [
    "## Conclusion "
   ]
  },
  {
   "cell_type": "markdown",
   "id": "3e6a498d",
   "metadata": {},
   "source": [
    "In conclusion, this small project successfully demonstrates the effective utilization of various technologies to streamline customer interactions. By combining pdf text extraction, mail body parsing, and the powerful GPT-3.5 turbo model, the system efficiently processes information about the product \"soap\" from the pdf and comprehends customer inquiries from the email. This integration allows the model to generate accurate and relevant responses to customer questions, enhancing the overall customer service experience. With the potential to automate responses based on the knowledge extracted from the pdf, the project showcases the potential for further advancements in natural language processing and customer support systems. Overall, this project highlights the promising capabilities of technology in improving customer communication and engagement."
   ]
  }
 ],
 "metadata": {
  "kernelspec": {
   "display_name": "Python 3 (ipykernel)",
   "language": "python",
   "name": "python3"
  },
  "language_info": {
   "codemirror_mode": {
    "name": "ipython",
    "version": 3
   },
   "file_extension": ".py",
   "mimetype": "text/x-python",
   "name": "python",
   "nbconvert_exporter": "python",
   "pygments_lexer": "ipython3",
   "version": "3.9.13"
  }
 },
 "nbformat": 4,
 "nbformat_minor": 5
}
